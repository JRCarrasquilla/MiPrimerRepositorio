{
 "cells": [
  {
   "cell_type": "markdown",
   "metadata": {},
   "source": [
    "Problema: Asignación de turnos en una empresa.\n",
    "\n",
    "Una empresa tiene 5 empleados y debe asignarles turnos de trabajo a lo largo de 7 días.\n",
    "Cada día tiene tres turnos (mañana, tarde y noche), y cada turno necesita exactamente un empleado.\n",
    "Las reglas son las siguientes:\n",
    "\n",
    "1. Cada empleado trabaja un máximo de 5 días a la semana.\n",
    "2. Ningún empleado puede trabajar dos turnos en el mismo día.\n",
    "3. Cada empleado debe descansar al menos un día entre turnos de noche y mañana.\n",
    "4. Al menos un turno por semana debe asignarse a cada empleado.\n",
    "¿Podrás formular y resolver este problema con OR-Tools? 🚀"
   ]
  },
  {
   "cell_type": "code",
   "execution_count": 1,
   "metadata": {},
   "outputs": [],
   "source": [
    "from ortools.init.python import init\n",
    "from ortools.linear_solver import pywraplp"
   ]
  },
  {
   "cell_type": "code",
   "execution_count": 2,
   "metadata": {},
   "outputs": [],
   "source": [
    "# Create the mip solver with the SCIP backend.\n",
    "solver = pywraplp.Solver.CreateSolver(\"SCIP\")"
   ]
  },
  {
   "cell_type": "code",
   "execution_count": 3,
   "metadata": {},
   "outputs": [],
   "source": [
    "num_workers = 5\n",
    "num_days = 7\n",
    "num_turns = 3"
   ]
  },
  {
   "cell_type": "code",
   "execution_count": 4,
   "metadata": {},
   "outputs": [],
   "source": [
    "x = {}\n",
    "for i in range(num_workers):\n",
    "    for j in range(num_days):\n",
    "        for k in range(num_turns):\n",
    "            x[i, j, k] = solver.IntVar(0, 1, \"\")"
   ]
  },
  {
   "cell_type": "code",
   "execution_count": 5,
   "metadata": {},
   "outputs": [],
   "source": [
    "# 1 turno al día por trabajador como máximo\n",
    "for i in range(num_workers):\n",
    "    for j in range(num_days):\n",
    "        solver.Add(solver.Sum([x[i, j, k] for k in range(num_turns)]) == 1)\n",
    "        \n",
    "# 1 turno por empleado como máximo\n",
    "for j in range(num_days):\n",
    "    for k in range(num_turns):\n",
    "        solver.Add(solver.Sum([x[i, j, k] for i in range(num_workers)]) == 1)\n",
    "\n",
    "# Cada empleado trabaja un máximo de 5 días a la semana.\n",
    "for i in range(num_workers):\n",
    "    solver.Add(solver.Sum([solver.Sum([x[i, j, k] for k in range(num_turns)]) for j in range(num_days)]) <= 5)\n",
    "\n",
    "# Ningún empleado trabaja más de 1 turno al día.\n",
    "for i in range(num_workers):\n",
    "    for j in range(num_days):\n",
    "        solver.Add(solver.Sum([x[i, j, k] for k in range(num_turns)]) <= 1)\n",
    "        \n",
    "# Cada empleado debe descansar al menos un día entre turnos de noche y mañana.\n",
    "for i in range(num_workers):\n",
    "    for j in range(num_days):\n",
    "        solver.Add(solver.Sum([x[i, j, 2],x[i, int((j+1)%(num_days-1)), 0]]) <= 1)\n",
    "        \n",
    "# Al menos un turno por semana debe asignarse a cada empleado.\n",
    "for i in range(num_workers):\n",
    "    solver.Add(solver.Sum([x[i, j, k] for j in range(num_days) for k in range(num_turns)]) >= 1)\n"
   ]
  },
  {
   "cell_type": "code",
   "execution_count": 6,
   "metadata": {},
   "outputs": [],
   "source": [
    "objective_terms = []\n",
    "for i in range(num_workers):\n",
    "    for j in range(num_days):\n",
    "        for k in range(num_turns):\n",
    "            objective_terms.append(x[i, j, k])\n",
    "solver.Minimize(solver.Sum(objective_terms))"
   ]
  },
  {
   "cell_type": "code",
   "execution_count": 7,
   "metadata": {},
   "outputs": [
    {
     "name": "stdout",
     "output_type": "stream",
     "text": [
      "Solving with SCIP 9.0.0 [LP solver: Glop 9.11]\n"
     ]
    }
   ],
   "source": [
    "print(f\"Solving with {solver.SolverVersion()}\")\n",
    "status = solver.Solve()"
   ]
  },
  {
   "cell_type": "code",
   "execution_count": 8,
   "metadata": {},
   "outputs": [
    {
     "name": "stdout",
     "output_type": "stream",
     "text": [
      "No solution found.\n"
     ]
    }
   ],
   "source": [
    "if status == pywraplp.Solver.OPTIMAL or status == pywraplp.Solver.FEASIBLE:\n",
    "    print(f\"Total cost = {solver.Objective().Value()}\\n\")\n",
    "    for i in range(num_workers):\n",
    "        for j in range(num_tasks):\n",
    "            # Test if x[i,j] is 1 (with tolerance for floating point arithmetic).\n",
    "            if x[i, j].solution_value() > 0.5:\n",
    "                print(f\"Worker {i} assigned to task {j}.\" + f\" Cost: {costs[i][j]}\")\n",
    "else:\n",
    "    print(\"No solution found.\")"
   ]
  }
 ],
 "metadata": {
  "kernelspec": {
   "display_name": "OptimizacionIA",
   "language": "python",
   "name": "python3"
  },
  "language_info": {
   "codemirror_mode": {
    "name": "ipython",
    "version": 3
   },
   "file_extension": ".py",
   "mimetype": "text/x-python",
   "name": "python",
   "nbconvert_exporter": "python",
   "pygments_lexer": "ipython3",
   "version": "3.12.8"
  }
 },
 "nbformat": 4,
 "nbformat_minor": 2
}
