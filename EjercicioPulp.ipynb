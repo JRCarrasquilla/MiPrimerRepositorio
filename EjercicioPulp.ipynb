{
 "cells": [
  {
   "cell_type": "markdown",
   "metadata": {},
   "source": [
    "# Problema de Asignación de Horarios para Profesores\n",
    "\n",
    "## **Descripción**\n",
    "Una escuela necesita asignar horarios a tres profesores (`P1`, `P2`, `P3`) para que impartan clases a cinco grupos (`G1`, `G2`, `G3`, `G4`, `G5`).  \n",
    "Cada grupo necesita una clase en cada franja horaria (mañana o tarde), y cada profesor tiene ciertas restricciones de disponibilidad.\n",
    "\n",
    "## **Datos del Problema**\n",
    "- Los profesores solo pueden dar clase en ciertos grupos y franjas horarias.\n",
    "- Cada grupo debe recibir exactamente una clase en cada franja horaria.\n",
    "- Un profesor no puede dar dos clases a la misma hora.\n",
    "\n",
    "### **Disponibilidad de los Profesores (1 = disponible, 0 = no disponible)**\n",
    "\n",
    "| Grupo \\ Horario | P1 (M) | P1 (T) | P2 (M) | P2 (T) | P3 (M) | P3 (T) |\n",
    "|---------------|--------|--------|--------|--------|--------|--------|\n",
    "| G1           |   1    |   1    |   1    |   0    |   0    |   1    |\n",
    "| G2           |   1    |   0    |   1    |   1    |   1    |   1    |\n",
    "| G3           |   0    |   1    |   1    |   1    |   1    |   0    |\n",
    "| G4           |   1    |   1    |   0    |   1    |   1    |   0    |\n",
    "| G5           |   0    |   1    |   1    |   0    |   1    |   1    |\n",
    "\n",
    "Donde **M** = Mañana, **T** = Tarde.\n",
    "\n",
    "## **Objetivo**\n",
    "Asignar los profesores a los grupos de manera que:\n",
    "1. Se respeten sus disponibilidades.\n",
    "2. Cada grupo tenga exactamente un profesor por franja horaria.\n",
    "3. Un profesor no imparta más de una clase simultáneamente.\n",
    "\n",
    "## **Requerimientos para la Implementación**\n",
    "El problema se debe resolver usando **Programación Lineal Entera** con la librería `PuLP` en Python.\n"
   ]
  },
  {
   "cell_type": "code",
   "execution_count": null,
   "metadata": {},
   "outputs": [
    {
     "name": "stderr",
     "output_type": "stream",
     "text": [
      "c:\\Users\\javie\\anaconda3\\envs\\OptimizacionIA\\Lib\\site-packages\\pulp\\pulp.py:1298: UserWarning: Spaces are not permitted in the name. Converted to '_'\n",
      "  warnings.warn(\"Spaces are not permitted in the name. Converted to '_'\")\n"
     ]
    }
   ],
   "source": [
    "# # Import all classes of PuLP module\n",
    "from pulp import *\n",
    "\n",
    "profes=[0,1,2]\n",
    "franjas=[0,1]\n",
    "grupos=[0,1,2,3,4]\n",
    "\n",
    "# Cost Matrix\n",
    "costs=[[[1 for k in grupos] for j in franjas] for i in profes]\n",
    "\n",
    "prob = LpProblem(\"Assignment Problem\", LpMinimize) "
   ]
  },
  {
   "cell_type": "code",
   "execution_count": 2,
   "metadata": {},
   "outputs": [],
   "source": [
    "# The cost data is made into a dictionary\n",
    "costs= makeDict([profes, franjas, grupos], costs, 0)\n",
    "\n",
    "# Creates a list of tuples containing all the possible assignments\n",
    "assign = [(i,j,k) for i in profes for j in franjas for k in grupos]\n",
    "\n",
    "# A dictionary called 'Vars' is created to contain the referenced variables\n",
    "vars = LpVariable.dicts(\"Assign\", (profes,franjas,grupos), 0, None, LpBinary)"
   ]
  },
  {
   "cell_type": "code",
   "execution_count": 3,
   "metadata": {},
   "outputs": [],
   "source": [
    "# The objective function is added to 'prob' first\n",
    "prob += (\n",
    "    lpSum([vars[i][j][k] * costs[i][j][k] for (i,j,k) in assign]),\n",
    "    \"Sum_of_Assignment_Costs\",\n",
    ")"
   ]
  },
  {
   "cell_type": "code",
   "execution_count": null,
   "metadata": {},
   "outputs": [],
   "source": [
    "# Cada grupo debe recibir exactamente una clase en cada franja horaria\n",
    "for j in franjas:\n",
    "    for k in grupos:\n",
    "        prob+= lpSum(vars[i][j][k] for i in profes) == 1\n",
    "\n",
    "# Un profesor no puede dar dos clases a la misma hora\n",
    "for i in profes:\n",
    "    for j in franjas:\n",
    "        prob+= lpSum(vars[i][j][k] for k in grupos) <= 1"
   ]
  },
  {
   "cell_type": "code",
   "execution_count": null,
   "metadata": {},
   "outputs": [],
   "source": []
  },
  {
   "cell_type": "code",
   "execution_count": null,
   "metadata": {},
   "outputs": [],
   "source": []
  },
  {
   "cell_type": "markdown",
   "metadata": {},
   "source": [
    "## SOLUCIÓN"
   ]
  },
  {
   "cell_type": "code",
   "execution_count": 6,
   "metadata": {},
   "outputs": [
    {
     "name": "stdout",
     "output_type": "stream",
     "text": [
      "Estado de la solución: Optimal\n",
      "Grupo G1, Horario M: Profesor P3\n",
      "Grupo G1, Horario T: Profesor P3\n",
      "Grupo G2, Horario M: Profesor P4\n",
      "Grupo G2, Horario T: Profesor P4\n",
      "Grupo G3, Horario M: Profesor P2\n",
      "Grupo G3, Horario T: Profesor P2\n",
      "Grupo G4, Horario M: Profesor P5\n",
      "Grupo G4, Horario T: Profesor P1\n",
      "Grupo G5, Horario M: Profesor P1\n",
      "Grupo G5, Horario T: Profesor P5\n"
     ]
    }
   ],
   "source": [
    "from pulp import LpProblem, LpVariable, lpSum, LpMinimize, LpStatus\n",
    "\n",
    "# Definir datos del problema\n",
    "profesores = [\"P1\", \"P2\", \"P3\", \"P4\", \"P5\"]  # Ahora hay 5 profesores\n",
    "grupos = [\"G1\", \"G2\", \"G3\", \"G4\", \"G5\"]\n",
    "horarios = [\"M\", \"T\"]  # M = Mañana, T = Tarde\n",
    "\n",
    "# Disponibilidad de los profesores (todos disponibles para todos los grupos)\n",
    "disponibilidad = {(g, h, p): 1 for g in grupos for h in horarios for p in profesores}\n",
    "\n",
    "# Crear el modelo de optimización\n",
    "model = LpProblem(\"Asignacion_Horarios\", LpMinimize)\n",
    "\n",
    "# Variables de decisión: x[g, h, p] = 1 si el profesor p da clase al grupo g en la franja h\n",
    "x = LpVariable.dicts(\"x\", [(g, h, p) for g in grupos for h in horarios for p in profesores], cat=\"Binary\")\n",
    "\n",
    "# Restricción 1: Cada grupo debe recibir exactamente una clase en cada franja horaria\n",
    "for g in grupos:\n",
    "    for h in horarios:\n",
    "        model += lpSum(x[g, h, p] for p in profesores) == 1\n",
    "\n",
    "# Restricción 2: Un profesor no puede dar dos clases simultáneamente\n",
    "for p in profesores:\n",
    "    for h in horarios:\n",
    "        model += lpSum(x[g, h, p] for g in grupos) <= 1\n",
    "\n",
    "# Restricción 3: Cumplir la disponibilidad de los profesores\n",
    "for (g, h, p) in x:\n",
    "    if disponibilidad[g, h, p] == 0:\n",
    "        model += x[g, h, p] == 0\n",
    "\n",
    "# Resolver el problema\n",
    "model.solve()\n",
    "\n",
    "# Mostrar resultados\n",
    "print(\"Estado de la solución:\", LpStatus[model.status])\n",
    "for g in grupos:\n",
    "    for h in horarios:\n",
    "        for p in profesores:\n",
    "            if x[g, h, p].varValue == 1:\n",
    "                print(f\"Grupo {g}, Horario {h}: Profesor {p}\")\n"
   ]
  },
  {
   "cell_type": "code",
   "execution_count": null,
   "metadata": {},
   "outputs": [],
   "source": []
  }
 ],
 "metadata": {
  "kernelspec": {
   "display_name": "OptimizacionIA",
   "language": "python",
   "name": "python3"
  },
  "language_info": {
   "codemirror_mode": {
    "name": "ipython",
    "version": 3
   },
   "file_extension": ".py",
   "mimetype": "text/x-python",
   "name": "python",
   "nbconvert_exporter": "python",
   "pygments_lexer": "ipython3",
   "version": "3.12.8"
  }
 },
 "nbformat": 4,
 "nbformat_minor": 2
}
