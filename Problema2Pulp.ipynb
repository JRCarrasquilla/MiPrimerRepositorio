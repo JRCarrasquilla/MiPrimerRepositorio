{
 "cells": [
  {
   "cell_type": "markdown",
   "metadata": {},
   "source": [
    "# Problema de reparto de turnos de trabajo\n",
    "\n",
    "## Contexto\n",
    "Una pequeña empresa necesita asignar 5 empleados (Ana, Luis, Carla, Pedro y María) a 3 turnos diarios (Mañana, Tarde, Noche) con los siguientes requisitos:\n",
    "\n",
    "### Requerimientos mínimos por turno:\n",
    "- **Mañana:** 2 personas\n",
    "- **Tarde:** 2 personas\n",
    "- **Noche:** 1 persona\n",
    "\n",
    "### Restricciones de disponibilidad:\n",
    "- **Ana** solo puede trabajar en **Mañana** o **Tarde**.\n",
    "- **Luis** no puede trabajar en **Mañana**.\n",
    "- **Carla** puede trabajar en cualquier turno.\n",
    "- **Pedro** no puede trabajar en **Tarde**.\n",
    "- **María** solo puede trabajar en **Tarde**.\n",
    "\n",
    "### Reglas adicionales:\n",
    "- Cada empleado debe tener **máximo 1 turno diario**.\n",
    "\n",
    "## Objetivo\n",
    "Crear un modelo de programación lineal utilizando `PuLP` en Python que encuentre una asignación válida de empleados a turnos, cumpliendo con todos los requisitos y restricciones.\n",
    "\n",
    "---\n",
    "\n",
    "### Notas:\n",
    "- El problema tiene solución garantizada bajo estas condiciones.\n",
    "- Una posible solución (no la única) es:\n",
    "  - **Mañana:** Ana y Carla\n",
    "  - **Tarde:** María y Pedro\n",
    "  - **Noche:** Luis"
   ]
  },
  {
   "cell_type": "code",
   "execution_count": 6,
   "metadata": {},
   "outputs": [],
   "source": [
    "# # Import all classes of PuLP module\n",
    "from pulp import *\n",
    "\n",
    "workers=[0,1,2,3,4]\n",
    "jobs=[0,1,2]\n",
    "\n",
    "# Cost Matrix\n",
    "costs=[[1 for i in jobs] for j in workers]\n",
    "\n",
    "prob = LpProblem(\"Assignment Problem\", LpMinimize) "
   ]
  },
  {
   "cell_type": "code",
   "execution_count": 7,
   "metadata": {},
   "outputs": [],
   "source": [
    "# The cost data is made into a dictionary\n",
    "costs= makeDict([workers, jobs], costs, 0)\n",
    "\n",
    "# Creates a list of tuples containing all the possible assignments\n",
    "assign = [(w, j) for w in workers for j in jobs]\n",
    "\n",
    "# A dictionary called 'Vars' is created to contain the referenced variables\n",
    "vars = LpVariable.dicts(\"Assign\", (workers, jobs), 0, None, LpBinary)"
   ]
  },
  {
   "cell_type": "code",
   "execution_count": 8,
   "metadata": {},
   "outputs": [],
   "source": [
    "# The objective function is added to 'prob' first\n",
    "prob += (\n",
    "    lpSum([vars[w][j] * costs[w][j] for (w, j) in assign]),\n",
    "    \"Sum_of_Assignment_Costs\",\n",
    ")"
   ]
  },
  {
   "cell_type": "code",
   "execution_count": 9,
   "metadata": {},
   "outputs": [],
   "source": [
    "# # Requerimientos mínimos por turno\n",
    "# Mínimo 2 personas en el turno de mañana\n",
    "prob+= lpSum(vars[w][0] for w in workers) >= 2\n",
    "# Mínimo 2 personas en el turno de tarde\n",
    "prob+= lpSum(vars[w][1] for w in workers) >= 2\n",
    "# Mínimo 1 persona en el turno de noche\n",
    "prob+= lpSum(vars[w][2] for w in workers) >= 1\n",
    "\n",
    "# # Restricciones de disponibilidad\n",
    "# Ana solo puede trabajar en mañana o tarde\n",
    "prob+= lpSum(vars[0][2]) == 0\n",
    "\n",
    "# Luis no puede trabajar en mañana\n",
    "prob+= lpSum(vars[1][0]) == 0\n",
    "\n",
    "# Carla puede trabajar en cualquier turno\n",
    "\n",
    "# Pedro no puede trabajar en tarde\n",
    "prob+= lpSum(vars[3][1]) == 0\n",
    "\n",
    "# María solo puede trabajar en Tarde\n",
    "prob+= lpSum([vars[4][0],vars[4][2]]) == 0\n",
    "\n",
    "# # Reglas adicionales\n",
    "# Cada empleado debe tener máximo 1 turno diario\n",
    "for w in workers:\n",
    "    prob+= lpSum(vars[w][j] for j in jobs) <= 1"
   ]
  },
  {
   "cell_type": "code",
   "execution_count": 10,
   "metadata": {},
   "outputs": [
    {
     "name": "stdout",
     "output_type": "stream",
     "text": [
      "Assign_0_0 = 0.0\n",
      "Assign_0_1 = 1.0\n",
      "Assign_0_2 = 0.0\n",
      "Assign_1_0 = 0.0\n",
      "Assign_1_1 = 0.0\n",
      "Assign_1_2 = 1.0\n",
      "Assign_2_0 = 1.0\n",
      "Assign_2_1 = 0.0\n",
      "Assign_2_2 = 0.0\n",
      "Assign_3_0 = 1.0\n",
      "Assign_3_1 = 0.0\n",
      "Assign_3_2 = 0.0\n",
      "Assign_4_0 = 0.0\n",
      "Assign_4_1 = 1.0\n",
      "Assign_4_2 = 0.0\n",
      "Value of Objective Function =  5.0\n"
     ]
    }
   ],
   "source": [
    "# The problem is solved using PuLP's choice of Solver\n",
    "prob.solve()\n",
    "\n",
    "# Print the variables optimized value\n",
    "for v in prob.variables():\n",
    "    print(v.name, \"=\", v.varValue)\n",
    "    \n",
    "# The optimised objective function value is printed to the screen\n",
    "print(\"Value of Objective Function = \", value(prob.objective))"
   ]
  }
 ],
 "metadata": {
  "kernelspec": {
   "display_name": "OptimizacionIA",
   "language": "python",
   "name": "python3"
  },
  "language_info": {
   "codemirror_mode": {
    "name": "ipython",
    "version": 3
   },
   "file_extension": ".py",
   "mimetype": "text/x-python",
   "name": "python",
   "nbconvert_exporter": "python",
   "pygments_lexer": "ipython3",
   "version": "3.12.8"
  }
 },
 "nbformat": 4,
 "nbformat_minor": 2
}
