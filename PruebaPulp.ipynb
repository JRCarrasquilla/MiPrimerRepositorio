{
 "cells": [
  {
   "cell_type": "markdown",
   "metadata": {},
   "source": [
    "Inicializar el modelo lp (programación lineal)"
   ]
  },
  {
   "cell_type": "code",
   "execution_count": 1,
   "metadata": {},
   "outputs": [
    {
     "name": "stderr",
     "output_type": "stream",
     "text": [
      "c:\\Users\\javie\\anaconda3\\envs\\OptimizacionIA\\Lib\\site-packages\\pulp\\pulp.py:1298: UserWarning: Spaces are not permitted in the name. Converted to '_'\n",
      "  warnings.warn(\"Spaces are not permitted in the name. Converted to '_'\")\n"
     ]
    }
   ],
   "source": [
    "# # Import all classes of PuLP module\n",
    "from pulp import *\n",
    "\n",
    "workers=[1,2,3,4]\n",
    "jobs=[1,2,3,4]\n",
    "\n",
    "# Cost Matrix\n",
    "costs=[[1,2,1,9],\n",
    "      [4,5,2,2],\n",
    "      [7,3,9,3],\n",
    "      [2,3,5,1]]\n",
    "\n",
    "prob = LpProblem(\"Assignment Problem\", LpMinimize) "
   ]
  },
  {
   "cell_type": "code",
   "execution_count": 2,
   "metadata": {},
   "outputs": [],
   "source": [
    "# The cost data is made into a dictionary\n",
    "costs= makeDict([workers, jobs], costs, 0)\n",
    "\n",
    "# Creates a list of tuples containing all the possible assignments\n",
    "assign = [(w, j) for w in workers for j in jobs]\n",
    "\n",
    "# A dictionary called 'Vars' is created to contain the referenced variables\n",
    "vars = LpVariable.dicts(\"Assign\", (workers, jobs), 0, None, LpBinary)"
   ]
  },
  {
   "cell_type": "code",
   "execution_count": 3,
   "metadata": {},
   "outputs": [],
   "source": [
    "# The objective function is added to 'prob' first\n",
    "prob += (\n",
    "    lpSum([vars[w][j] * costs[w][j] for (w, j) in assign]),\n",
    "    \"Sum_of_Assignment_Costs\",\n",
    ")"
   ]
  },
  {
   "cell_type": "code",
   "execution_count": 4,
   "metadata": {},
   "outputs": [],
   "source": [
    "# There are row constraints. Each job can be assigned to only one employee.\n",
    "for j in jobs:\n",
    "    prob+= lpSum(vars[w][j] for w in workers) == 1\n",
    "\n",
    "# There are column constraints. Each employee can be assigned to only one job.\n",
    "for w in workers:\n",
    "    prob+= lpSum(vars[w][j] for j in jobs) == 1"
   ]
  },
  {
   "cell_type": "code",
   "execution_count": 5,
   "metadata": {},
   "outputs": [
    {
     "name": "stdout",
     "output_type": "stream",
     "text": [
      "Assign_1_1 = 1.0\n",
      "Assign_1_2 = 0.0\n",
      "Assign_1_3 = 0.0\n",
      "Assign_1_4 = 0.0\n",
      "Assign_2_1 = 0.0\n",
      "Assign_2_2 = 0.0\n",
      "Assign_2_3 = 1.0\n",
      "Assign_2_4 = 0.0\n",
      "Assign_3_1 = 0.0\n",
      "Assign_3_2 = 1.0\n",
      "Assign_3_3 = 0.0\n",
      "Assign_3_4 = 0.0\n",
      "Assign_4_1 = 0.0\n",
      "Assign_4_2 = 0.0\n",
      "Assign_4_3 = 0.0\n",
      "Assign_4_4 = 1.0\n",
      "Value of Objective Function =  7.0\n"
     ]
    }
   ],
   "source": [
    "# The problem is solved using PuLP's choice of Solver\n",
    "prob.solve()\n",
    "\n",
    "# Print the variables optimized value\n",
    "for v in prob.variables():\n",
    "    print(v.name, \"=\", v.varValue)\n",
    "    \n",
    "# The optimised objective function value is printed to the screen\n",
    "print(\"Value of Objective Function = \", value(prob.objective))"
   ]
  }
 ],
 "metadata": {
  "kernelspec": {
   "display_name": "OptimizacionIA",
   "language": "python",
   "name": "python3"
  },
  "language_info": {
   "codemirror_mode": {
    "name": "ipython",
    "version": 3
   },
   "file_extension": ".py",
   "mimetype": "text/x-python",
   "name": "python",
   "nbconvert_exporter": "python",
   "pygments_lexer": "ipython3",
   "version": "3.12.8"
  }
 },
 "nbformat": 4,
 "nbformat_minor": 2
}
